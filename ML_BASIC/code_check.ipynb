{
 "cells": [
  {
   "cell_type": "markdown",
   "id": "b19ea680",
   "metadata": {},
   "source": [
    "### 의사결정트리"
   ]
  },
  {
   "cell_type": "code",
   "execution_count": 1,
   "id": "4f3c9cf3",
   "metadata": {},
   "outputs": [
    {
     "name": "stdout",
     "output_type": "stream",
     "text": [
      "훈련 세트 정확도 : 0.972\n",
      "테스트 세트 정확도 : 0.912\n"
     ]
    }
   ],
   "source": [
    "from sklearn.tree import DecisionTreeClassifier\n",
    "from sklearn.model_selection import train_test_split\n",
    "from sklearn.datasets import load_breast_cancer\n",
    "import seaborn as sns\n",
    "\n",
    "cancer = load_breast_cancer()\n",
    "X = cancer.data\n",
    "y = cancer.target\n",
    "\n",
    "X_train, X_test, y_train, y_test = train_test_split(X, y, \n",
    "                                                    stratify=cancer.target, \n",
    "                                                    test_size = 0.3,\n",
    "                                                    random_state=77)\n",
    "\n",
    "tree = DecisionTreeClassifier(max_depth=2, random_state=0)\n",
    "tree.fit(X_train, y_train)\n",
    "\n",
    "print(\"훈련 세트 정확도 : {:.3f}\".format(tree.score(X_train, y_train)))\n",
    "print(\"테스트 세트 정확도 : {:.3f}\".format(tree.score(X_test, y_test)))"
   ]
  },
  {
   "cell_type": "markdown",
   "id": "939f7fc7",
   "metadata": {},
   "source": [
    "### 레벨업 1"
   ]
  },
  {
   "cell_type": "code",
   "execution_count": 2,
   "id": "2f0510bf",
   "metadata": {},
   "outputs": [
    {
     "name": "stdout",
     "output_type": "stream",
     "text": [
      "가장 좋은 max_depth: 4\n",
      "가장 좋은 test_size: 0.4\n",
      "테스트 세트에서의 최고 정확도: 0.9385964912280702\n"
     ]
    }
   ],
   "source": [
    "from sklearn.tree import DecisionTreeClassifier\n",
    "from sklearn.model_selection import train_test_split\n",
    "from sklearn.datasets import load_breast_cancer\n",
    "import seaborn as sns\n",
    "\n",
    "cancer = load_breast_cancer()\n",
    "X = cancer.data\n",
    "y = cancer.target\n",
    "\n",
    "best_score = 0.0\n",
    "best_max_depth = None\n",
    "best_test_size = None\n",
    "\n",
    "for max_depth in [3, 4, 5]:\n",
    "    for test_size in [0.4, 0.5, 0.6]:\n",
    "        X_train, X_test, y_train, y_test = train_test_split(X, y, stratify=cancer.target, test_size=test_size, random_state=77)\n",
    "\n",
    "        tree = DecisionTreeClassifier(max_depth=max_depth, random_state=0)\n",
    "        tree.fit(X_train, y_train)\n",
    "\n",
    "        train_score = tree.score(X_train, y_train)\n",
    "        test_score = tree.score(X_test, y_test)\n",
    "\n",
    "        if test_score > best_score:\n",
    "            best_score = test_score\n",
    "            best_max_depth = max_depth\n",
    "            best_test_size = test_size\n",
    "\n",
    "print(\"가장 좋은 max_depth:\", best_max_depth)\n",
    "print(\"가장 좋은 test_size:\", best_test_size)\n",
    "print(\"테스트 세트에서의 최고 정확도:\", best_score)\n"
   ]
  },
  {
   "cell_type": "code",
   "execution_count": 3,
   "id": "221f3c47",
   "metadata": {},
   "outputs": [
    {
     "name": "stdout",
     "output_type": "stream",
     "text": [
      "Decision Tree Classifier:\n",
      "훈련 세트 정확도 : 0.972\n",
      "테스트 세트 정확도 : 0.912\n",
      "\n",
      "Random Forest Classifier:\n",
      "훈련 세트 정확도 : 1.000\n",
      "테스트 세트 정확도 : 0.942\n",
      "\n",
      "Gradient Boosting Classifier:\n",
      "훈련 세트 정확도 : 1.000\n",
      "테스트 세트 정확도 : 0.936\n"
     ]
    }
   ],
   "source": [
    "from sklearn.ensemble import RandomForestClassifier, GradientBoostingClassifier\n",
    "from sklearn.model_selection import train_test_split\n",
    "from sklearn.datasets import load_breast_cancer\n",
    "\n",
    "# 유방암 데이터 셋\n",
    "cancer = load_breast_cancer()\n",
    "X = cancer.data\n",
    "y = cancer.target\n",
    "\n",
    "X_train, X_test, y_train, y_test = train_test_split(X, y, stratify=cancer.target, test_size=0.3, random_state=77)\n",
    "\n",
    "# Decision Tree Classifier\n",
    "tree = DecisionTreeClassifier(max_depth=2, random_state=0)\n",
    "tree.fit(X_train, y_train)\n",
    "\n",
    "print(\"Decision Tree Classifier:\")\n",
    "print(\"훈련 세트 정확도 : {:.3f}\".format(tree.score(X_train, y_train)))\n",
    "print(\"테스트 세트 정확도 : {:.3f}\".format(tree.score(X_test, y_test)))\n",
    "\n",
    "# Random Forest Classifier\n",
    "forest = RandomForestClassifier(n_estimators=100, random_state=0)\n",
    "forest.fit(X_train, y_train)\n",
    "\n",
    "print(\"\\nRandom Forest Classifier:\")\n",
    "print(\"훈련 세트 정확도 : {:.3f}\".format(forest.score(X_train, y_train)))\n",
    "print(\"테스트 세트 정확도 : {:.3f}\".format(forest.score(X_test, y_test)))\n",
    "\n",
    "# Gradient Boosting Classifier\n",
    "boosting = GradientBoostingClassifier(n_estimators=100, random_state=0)\n",
    "boosting.fit(X_train, y_train)\n",
    "\n",
    "print(\"\\nGradient Boosting Classifier:\")\n",
    "print(\"훈련 세트 정확도 : {:.3f}\".format(boosting.score(X_train, y_train)))\n",
    "print(\"테스트 세트 정확도 : {:.3f}\".format(boosting.score(X_test, y_test)))"
   ]
  },
  {
   "cell_type": "markdown",
   "id": "5745df5b",
   "metadata": {},
   "source": [
    "### 레벨업 3 - 비교 평가 부분. 함수로 만들어보기"
   ]
  },
  {
   "cell_type": "code",
   "execution_count": 4,
   "id": "c390633b",
   "metadata": {},
   "outputs": [
    {
     "name": "stdout",
     "output_type": "stream",
     "text": [
      "Decision Tree Classifier:\n",
      "훈련 세트 정확도 : 0.972\n",
      "테스트 세트 정확도 : 0.912\n",
      "\n",
      "Random Forest Classifier:\n",
      "훈련 세트 정확도 : 1.000\n",
      "테스트 세트 정확도 : 0.942\n",
      "\n",
      "Gradient Boosting Classifier:\n",
      "훈련 세트 정확도 : 1.000\n",
      "테스트 세트 정확도 : 0.936\n",
      "\n",
      "모델 성능 결과:\n",
      "Decision Tree\n",
      "훈련 세트 정확도 : 0.972\n",
      "테스트 세트 정확도 : 0.912\n",
      "\n",
      "Random Forest\n",
      "훈련 세트 정확도 : 1.000\n",
      "테스트 세트 정확도 : 0.942\n",
      "\n",
      "Gradient Boosting\n",
      "훈련 세트 정확도 : 1.000\n",
      "테스트 세트 정확도 : 0.936\n",
      "\n"
     ]
    }
   ],
   "source": [
    "from sklearn.ensemble import RandomForestClassifier, GradientBoostingClassifier\n",
    "from sklearn.model_selection import train_test_split\n",
    "from sklearn.datasets import load_breast_cancer\n",
    "\n",
    "def train_and_evaluate_models(X, y):\n",
    "    X_train, X_test, y_train, y_test = train_test_split(X, y, stratify=y, test_size=0.3, random_state=77)\n",
    "\n",
    "    # Decision Tree Classifier\n",
    "    tree = DecisionTreeClassifier(max_depth=2, random_state=0)\n",
    "    tree.fit(X_train, y_train)\n",
    "\n",
    "    print(\"Decision Tree Classifier:\")\n",
    "    print(\"훈련 세트 정확도 : {:.3f}\".format(tree.score(X_train, y_train)))\n",
    "    print(\"테스트 세트 정확도 : {:.3f}\".format(tree.score(X_test, y_test)))\n",
    "\n",
    "    # Random Forest Classifier\n",
    "    forest = RandomForestClassifier(n_estimators=100, random_state=0)\n",
    "    forest.fit(X_train, y_train)\n",
    "\n",
    "    print(\"\\nRandom Forest Classifier:\")\n",
    "    print(\"훈련 세트 정확도 : {:.3f}\".format(forest.score(X_train, y_train)))\n",
    "    print(\"테스트 세트 정확도 : {:.3f}\".format(forest.score(X_test, y_test)))\n",
    "\n",
    "    # Gradient Boosting Classifier\n",
    "    boosting = GradientBoostingClassifier(n_estimators=100, random_state=0)\n",
    "    boosting.fit(X_train, y_train)\n",
    "\n",
    "    print(\"\\nGradient Boosting Classifier:\")\n",
    "    print(\"훈련 세트 정확도 : {:.3f}\".format(boosting.score(X_train, y_train)))\n",
    "    print(\"테스트 세트 정확도 : {:.3f}\".format(boosting.score(X_test, y_test)))\n",
    "\n",
    "    return {\n",
    "        \"Decision Tree\": {\n",
    "            \"train_accuracy\": tree.score(X_train, y_train),\n",
    "            \"test_accuracy\": tree.score(X_test, y_test)\n",
    "        },\n",
    "        \"Random Forest\": {\n",
    "            \"train_accuracy\": forest.score(X_train, y_train),\n",
    "            \"test_accuracy\": forest.score(X_test, y_test)\n",
    "        },\n",
    "        \"Gradient Boosting\": {\n",
    "            \"train_accuracy\": boosting.score(X_train, y_train),\n",
    "            \"test_accuracy\": boosting.score(X_test, y_test)\n",
    "        }\n",
    "    }\n",
    "\n",
    "# 유방암 데이터셋 로드\n",
    "cancer = load_breast_cancer()\n",
    "X = cancer.data\n",
    "y = cancer.target\n",
    "\n",
    "# 모델 학습 및 평가\n",
    "results = train_and_evaluate_models(X, y)\n",
    "\n",
    "# 결과 출력\n",
    "print(\"\\n모델 성능 결과:\")\n",
    "for model, metrics in results.items():\n",
    "    print(model)\n",
    "    print(\"훈련 세트 정확도 : {:.3f}\".format(metrics[\"train_accuracy\"]))\n",
    "    print(\"테스트 세트 정확도 : {:.3f}\".format(metrics[\"test_accuracy\"]))\n",
    "    print()\n",
    "    "
   ]
  },
  {
   "cell_type": "code",
   "execution_count": null,
   "id": "8229a7bb",
   "metadata": {},
   "outputs": [],
   "source": []
  }
 ],
 "metadata": {
  "kernelspec": {
   "display_name": "Python 3 (ipykernel)",
   "language": "python",
   "name": "python3"
  },
  "language_info": {
   "codemirror_mode": {
    "name": "ipython",
    "version": 3
   },
   "file_extension": ".py",
   "mimetype": "text/x-python",
   "name": "python",
   "nbconvert_exporter": "python",
   "pygments_lexer": "ipython3",
   "version": "3.9.13"
  }
 },
 "nbformat": 4,
 "nbformat_minor": 5
}
