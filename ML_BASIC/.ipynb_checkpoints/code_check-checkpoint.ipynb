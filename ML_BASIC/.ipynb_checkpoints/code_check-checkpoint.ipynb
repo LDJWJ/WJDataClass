{
 "cells": [
  {
   "cell_type": "markdown",
   "id": "3724c6cc",
   "metadata": {},
   "source": [
    "### 의사결정트리"
   ]
  },
  {
   "cell_type": "code",
   "execution_count": null,
   "id": "453cb8ac",
   "metadata": {},
   "outputs": [],
   "source": [
    "from sklearn.tree import DecisionTreeClassifier\n",
    "from sklearn.model_selection import train_test_split\n",
    "from sklearn.datasets import load_breast_cancer\n",
    "import seaborn as sns\n",
    "\n",
    "cancer = load_breast_cancer()\n",
    "X = cancer.data\n",
    "y = cancer.target\n",
    "\n",
    "X_train, X_test, y_train, y_test = train_test_split(X, y, \n",
    "                                                    stratify=cancer.target, \n",
    "                                                    test_size = 0.3,\n",
    "                                                    random_state=77)\n",
    "\n",
    "tree = DecisionTreeClassifier(max_depth=2, random_state=0)\n",
    "tree.fit(X_train, y_train)\n",
    "\n",
    "print(\"훈련 세트 정확도 : {:.3f}\".format(tree.score(X_train, y_train)))\n",
    "print(\"테스트 세트 정확도 : {:.3f}\".format(tree.score(X_test, y_test)))"
   ]
  }
 ],
 "metadata": {
  "kernelspec": {
   "display_name": "Python 3 (ipykernel)",
   "language": "python",
   "name": "python3"
  },
  "language_info": {
   "codemirror_mode": {
    "name": "ipython",
    "version": 3
   },
   "file_extension": ".py",
   "mimetype": "text/x-python",
   "name": "python",
   "nbconvert_exporter": "python",
   "pygments_lexer": "ipython3",
   "version": "3.9.13"
  }
 },
 "nbformat": 4,
 "nbformat_minor": 5
}
